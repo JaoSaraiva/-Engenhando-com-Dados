{
  "cells": [
    {
      "cell_type": "markdown",
      "metadata": {
        "id": "view-in-github",
        "colab_type": "text"
      },
      "source": [
        "<a href=\"https://colab.research.google.com/github/JaoSaraiva/-Engenhando-com-Dados/blob/main/deep_learn_engjao.ipynb\" target=\"_parent\"><img src=\"https://colab.research.google.com/assets/colab-badge.svg\" alt=\"Open In Colab\"/></a>"
      ]
    },
    {
      "cell_type": "code",
      "execution_count": 2,
      "metadata": {
        "id": "MfQoOHxDaGmd"
      },
      "outputs": [],
      "source": [
        "import tensorflow\n",
        "from tensorflow import keras\n",
        "import matplotlib.pyplot as plt\n",
        "import numpy as np"
      ]
    },
    {
      "cell_type": "code",
      "execution_count": 8,
      "metadata": {
        "id": "oJ7B71vQaJHw",
        "colab": {
          "base_uri": "https://localhost:8080/"
        },
        "outputId": "34ebefb7-8859-4ed4-8ede-395e4cdf32a7"
      },
      "outputs": [
        {
          "output_type": "stream",
          "name": "stdout",
          "text": [
            "Downloading data from https://storage.googleapis.com/tensorflow/tf-keras-datasets/train-labels-idx1-ubyte.gz\n",
            "29515/29515 [==============================] - 0s 0us/step\n",
            "Downloading data from https://storage.googleapis.com/tensorflow/tf-keras-datasets/train-images-idx3-ubyte.gz\n",
            "26421880/26421880 [==============================] - 0s 0us/step\n",
            "Downloading data from https://storage.googleapis.com/tensorflow/tf-keras-datasets/t10k-labels-idx1-ubyte.gz\n",
            "5148/5148 [==============================] - 0s 0us/step\n",
            "Downloading data from https://storage.googleapis.com/tensorflow/tf-keras-datasets/t10k-images-idx3-ubyte.gz\n",
            "4422102/4422102 [==============================] - 0s 0us/step\n"
          ]
        }
      ],
      "source": [
        "#carregando o dataset\n",
        "dataset = keras.datasets.fashion_mnist\n",
        "((imagens_treino, identificacoes_treino), (imagens_teste, identificacoes_teste)) = dataset.load_data()"
      ]
    },
    {
      "cell_type": "code",
      "execution_count": 9,
      "metadata": {
        "colab": {
          "base_uri": "https://localhost:8080/"
        },
        "id": "E4Mswb56aLWk",
        "outputId": "aa8f1bd2-61dd-41cc-e3c8-ddc4a02d752e"
      },
      "outputs": [
        {
          "output_type": "execute_result",
          "data": {
            "text/plain": [
              "9"
            ]
          },
          "metadata": {},
          "execution_count": 9
        }
      ],
      "source": [
        "#explorando os dados\n",
        "len(imagens_treino)\n",
        "imagens_treino.shape\n",
        "imagens_teste.shape\n",
        "len(identificacoes_teste)\n",
        "identificacoes_treino.min()\n",
        "identificacoes_treino.max()"
      ]
    },
    {
      "cell_type": "code",
      "execution_count": 10,
      "metadata": {
        "colab": {
          "base_uri": "https://localhost:8080/",
          "height": 447
        },
        "id": "xCMeFYU3t5EA",
        "outputId": "37d0e86b-dfb9-42b6-df23-a5d16a87c051"
      },
      "outputs": [
        {
          "output_type": "execute_result",
          "data": {
            "text/plain": [
              "<matplotlib.colorbar.Colorbar at 0x790afb386cb0>"
            ]
          },
          "metadata": {},
          "execution_count": 10
        },
        {
          "output_type": "display_data",
          "data": {
            "text/plain": [
              "<Figure size 640x480 with 2 Axes>"
            ],
            "image/png": "[encoded data removed]"
          },
          "metadata": {}
        }
      ],
      "source": [
        "#exibindo os dados\n",
        "total_classificacoes = 10\n",
        "nomes_de_classificacoes = ['Camiseta', 'Calça', 'Pullover', 'Vestido', 'Casaco', 'Sandália', 'Camisa', 'Tênis', 'Bolsa', 'Bota']\n",
        "'''\n",
        "plt.imshow(imagens_treino[0])\n",
        "plt.title(identificacoes_treino[0])\n",
        "\n",
        "for imagem in range(10):\n",
        "    plt.subplot(2, 5, imagem+1)\n",
        "    plt.imshow(imagens_treino[imagem])\n",
        "    plt.title(nomes_de_classificacoes[identificacoes_treino[imagem]])\n",
        "    plt.subplots_adjust(hspace=0.2, wspace=0.5)\n",
        "'''\n",
        "plt.imshow(imagens_treino[0])\n",
        "plt.colorbar()"
      ]
    },
    {
      "cell_type": "code",
      "execution_count": 11,
      "metadata": {
        "id": "8Y4vMxn_EEYp"
      },
      "outputs": [],
      "source": [
        "#processo de Normalização\n",
        "imagens_treino = imagens_treino/float(255)"
      ]
    },
    {
      "cell_type": "code",
      "execution_count": 5,
      "metadata": {
        "id": "MA_WMy4NbaJ9"
      },
      "outputs": [],
      "source": [
        "#modelo sequencia\n",
        "   #entrada (camada 0)\n",
        "   #processamento (camada 1)\n",
        "   #saida (camada 2)\n",
        "\n",
        "modelo = keras.Sequential([\n",
        "    #rede neural:\n",
        "    keras.layers.Flatten(input_shape=(28, 28)),\n",
        "    keras.layers.Dense(256, activation = tensorflow.nn.relu), #este número 256 é aleatório e deve ser múltiplo de 2. Eles são responsáveis pelas comunicações profundas entre as camadas da rede neural. 'nn' é tradução de redes neurais\n",
        "    keras.layers.Dropout(0.2), #deixando 20% adormecido (técnica para melhorar nossas validações)\n",
        "    #keras.layers.Dense(128, activation = tensorflow.nn.relu),\n",
        "    #keras.layers.Dense(64, activation = tensorflow.nn.relu),\n",
        "    keras.layers.Dense(10, activation = tensorflow.nn.softmax) #10 é o número de classificações que temos\n",
        "])"
      ]
    },
    {
      "cell_type": "markdown",
      "metadata": {
        "id": "cITH1biZzfGD"
      },
      "source": [
        "Finalizamos a criação do nosso modelo. Nosso modelo de deep learning possui várias camadas(multilayers). Agora vamos treiná-lo. Mas, antes precisamos compilar."
      ]
    },
    {
      "cell_type": "code",
      "source": [
        "adam = keras.optimizers.Adam(lr=0.001) #lr: learning rate: taxa de aprendizagem quanto maior o número maior a perda e menor acurácia."
      ],
      "metadata": {
        "colab": {
          "base_uri": "https://localhost:8080/"
        },
        "id": "bGGQPs5UNGTm",
        "outputId": "5887b725-9c69-4c36-cb2b-4548ed7ad80f"
      },
      "execution_count": 15,
      "outputs": [
        {
          "output_type": "stream",
          "name": "stderr",
          "text": [
            "WARNING:absl:`lr` is deprecated in Keras optimizer, please use `learning_rate` or use the legacy optimizer, e.g.,tf.keras.optimizers.legacy.Adam.\n"
          ]
        }
      ]
    },
    {
      "cell_type": "code",
      "source": [
        "#monitora o modelo para n ficarmos precisando fazer gráficos para comparações e quando ele percebe que n adianta ficar fazendo mais épocas pois n irá evoluir o modelo, ele para automaticamente\n",
        "callbacks = [keras.callbacks.EarlyStopping(monitor='val_loss'),\n",
        "             keras.callbacks.ModelCheckpoint(filepath='melhor_modelo.hdf5', monitor='val_loss', save_best_only=True)] #callbacks.ModelCheckpoint separa as melhores configurações que vc dita para ele"
      ],
      "metadata": {
        "id": "nQkx8bUnWh6C"
      },
      "execution_count": 19,
      "outputs": []
    },
    {
      "cell_type": "code",
      "execution_count": 20,
      "metadata": {
        "colab": {
          "base_uri": "https://localhost:8080/"
        },
        "id": "IQIkXsWF1fC_",
        "outputId": "b16e5bc2-dbb7-49c1-fc2f-5bdc7f80b191"
      },
      "outputs": [
        {
          "output_type": "stream",
          "name": "stdout",
          "text": [
            "Epoch 1/5\n",
            "1500/1500 [==============================] - 10s 7ms/step - loss: 0.2188 - accuracy: 0.9160 - val_loss: 0.3171 - val_accuracy: 0.8941\n",
            "Epoch 2/5\n",
            "  38/1500 [..............................] - ETA: 6s - loss: 0.1985 - accuracy: 0.9293"
          ]
        },
        {
          "output_type": "stream",
          "name": "stderr",
          "text": [
            "/usr/local/lib/python3.10/dist-packages/keras/src/engine/training.py:3103: UserWarning: You are saving your model as an HDF5 file via `model.save()`. This file format is considered legacy. We recommend using instead the native Keras format, e.g. `model.save('my_model.keras')`.\n",
            "  saving_api.save_model(\n"
          ]
        },
        {
          "output_type": "stream",
          "name": "stdout",
          "text": [
            "1500/1500 [==============================] - 8s 6ms/step - loss: 0.2177 - accuracy: 0.9175 - val_loss: 0.3384 - val_accuracy: 0.8867\n"
          ]
        }
      ],
      "source": [
        "modelo.compile(optimizer=adam, loss='sparse_categorical_crossentropy', metrics=['accuracy'])\n",
        "historico = modelo.fit(imagens_treino, identificacoes_treino, epochs=5, validation_split=0.2, callbacks=callbacks) #substituímos o 5 por 30. Vimos que a melhor opção é a 5.\n",
        "#batch_size = 480 (48000 /100) este número de parâmetro dá menos informações\n",
        "#por vez ao modelo ajudando a diminuir o tempo de rodagem de cada época, resumindo treina o modelo mais rápido, consequentemente, melhora os cálculos de pesos e vieses.\n",
        "#Mas n necessariamente tem eficiência com a acurácia e perdas.\n",
        "#Quando usamos o batch_size e ele tende a ter loss e acc ruins, manipulamos o lr. Ao rodar o modelo, verificamos que temos um excelente retorno do mesmo. Então, pode ser uma excelente solução."
      ]
    },
    {
      "cell_type": "markdown",
      "metadata": {
        "id": "P-Uu_LgR7ogK"
      },
      "source": [
        "Nesta saída observamos que tivemos bastante perdas (loss: 12.2693). Vamos tentar diminuir ao máximo essas perdas. Observamos que para melhorar as perdas, podemos deixar as cores menos variáveis, afinal, temos uma escala de mais ou menos 0 a 255 cores e queremos reduzir para 0 a 1. Para isso vamos fazer alterações nas nossas linhas de código assima: 'imagens_treino = imagens_treino/float(255)'.\n",
        "Após rodar o código observamos que nossa perda reduziu drasticamente para 0.4799.\n",
        "\n",
        "Agora vamos tentar mais melhoramentos do nosso modelo. Afunilando as camadas densas. Temos 256 para 10. Vamos voltar ao código e acrescentar mais uma camada para executação do nosso propósito. Após adicionarmos mais camadas, vimos que para este modelo não é o ideal pois está aumentando as perdas. Então, vamos continuar da forma que está.\n",
        "\n",
        "Agora vamos treinar nosso modelo mais vezes para melhorar ainda mais essas perdas: 'epochs=5'. Observamos que melhorando ainda mais nosso modelo com uma perda de apenas 0.2674!\n",
        "\n",
        "Após vermos e analisarmos nossas perdas, vamos verificar o quanto o modelo está ganhando/acertando: 'metrics=['accuracy']'. Observamos que nossa acurácia está em ascensão, então estamos indo bem com nosso modelo.\n",
        "\n",
        "Após esse treinamento no modelo (modelo.fit), vamos fazer a predição ou testes e vamos verificar como ele está se adaptando à dados novos (modelo.predict)."
      ]
    },
    {
      "cell_type": "code",
      "execution_count": null,
      "metadata": {
        "colab": {
          "base_uri": "https://localhost:8080/"
        },
        "id": "EPLM90FEVDSD",
        "outputId": "7a6919ba-dbc8-443a-943d-19d325fdf462"
      },
      "outputs": [
        {
          "output_type": "stream",
          "name": "stdout",
          "text": [
            "Model: \"sequential\"\n",
            "_________________________________________________________________\n",
            " Layer (type)                Output Shape              Param #   \n",
            "=================================================================\n",
            " flatten (Flatten)           (None, 784)               0         \n",
            "                                                                 \n",
            " dense (Dense)               (None, 256)               200960    \n",
            "                                                                 \n",
            " dropout (Dropout)           (None, 256)               0         \n",
            "                                                                 \n",
            " dense_1 (Dense)             (None, 10)                2570      \n",
            "                                                                 \n",
            "=================================================================\n",
            "Total params: 203530 (795.04 KB)\n",
            "Trainable params: 203530 (795.04 KB)\n",
            "Non-trainable params: 0 (0.00 Byte)\n",
            "_________________________________________________________________\n"
          ]
        }
      ],
      "source": [
        "#resumo do modelo\n",
        "sumario_do_modelo = modelo.summary()"
      ]
    },
    {
      "cell_type": "code",
      "execution_count": null,
      "metadata": {
        "colab": {
          "base_uri": "https://localhost:8080/"
        },
        "id": "95KiZ5rdGCRt",
        "outputId": "c50b29bd-8689-4822-ec17-e201141120e3"
      },
      "outputs": [
        {
          "output_type": "execute_result",
          "data": {
            "text/plain": [
              "array([[0., 0., 0., ..., 0., 0., 0.],\n",
              "       [0., 0., 0., ..., 0., 0., 0.],\n",
              "       [0., 0., 0., ..., 0., 0., 0.],\n",
              "       ...,\n",
              "       [0., 0., 0., ..., 0., 0., 0.],\n",
              "       [0., 0., 0., ..., 0., 0., 0.],\n",
              "       [0., 0., 0., ..., 0., 0., 0.]], dtype=float32)"
            ]
          },
          "metadata": {},
          "execution_count": 25
        }
      ],
      "source": [
        "pesos_camada_dense = modelo.layers[1].get_weights()[0]\n",
        "pesos_camada_dense"
      ]
    },
    {
      "cell_type": "code",
      "execution_count": null,
      "metadata": {
        "colab": {
          "base_uri": "https://localhost:8080/"
        },
        "id": "g3V-cgfX6TNA",
        "outputId": "94dbaefe-f3b3-4a90-b66e-374b3dad1168"
      },
      "outputs": [
        {
          "output_type": "execute_result",
          "data": {
            "text/plain": [
              "[array([[0.2740623 , 0.45766282, 0.09729987, ..., 0.6361702 , 0.38006085,\n",
              "         0.21990013],\n",
              "        [0.05886537, 0.83376944, 0.7684522 , ..., 0.98866194, 0.4215903 ,\n",
              "         0.05537025],\n",
              "        [0.9157184 , 0.91034114, 0.11557064, ..., 0.53412384, 0.6263726 ,\n",
              "         0.6287747 ],\n",
              "        ...,\n",
              "        [0.48578462, 0.52383167, 0.850647  , ..., 0.7431174 , 0.27206275,\n",
              "         0.6633255 ],\n",
              "        [0.29703856, 0.10170612, 0.15559334, ..., 0.10845103, 0.52382964,\n",
              "         0.09032223],\n",
              "        [0.7629639 , 0.34904414, 0.95690304, ..., 0.479996  , 0.9356486 ,\n",
              "         0.8331291 ]], dtype=float32),\n",
              " array([ 0.07876888, -0.01931808,  0.04634396, -0.01182395,  0.40503913,\n",
              "        -0.01046869,  0.24786316,  0.1649153 ,  0.2476673 , -0.01013609,\n",
              "         0.24050836, -0.0123611 ,  0.09106288, -0.04989163, -0.03544729,\n",
              "         0.24670401, -0.37850857, -0.01313706,  0.08326332, -0.17827368,\n",
              "         0.38786548,  0.30363432,  0.11241002,  0.14254686, -0.23846793,\n",
              "         0.3070631 , -0.07684389,  0.43046853,  0.28405315,  0.10183404,\n",
              "         0.077911  ,  0.03318501,  0.14313947, -0.17486118,  0.22575746,\n",
              "         0.25927478,  0.10215763, -0.00708893,  0.05003633, -0.00417589,\n",
              "         0.10841973,  0.08607321,  0.03679475,  0.23758407, -0.20267642,\n",
              "         0.07253024, -0.00532841,  0.1547921 ,  0.30543974,  0.05982722,\n",
              "         0.10992961,  0.04431518,  0.1778668 , -0.121492  ,  0.27612546,\n",
              "         0.2984267 ,  0.4054217 ,  0.24612485, -0.27738422,  0.34485036,\n",
              "         0.27076095, -0.23097143,  0.09375621,  0.17330317,  0.38672546,\n",
              "         0.2551819 ,  0.06320272, -0.09405781,  0.37583116, -0.07081918,\n",
              "         0.16568556,  0.06093509,  0.35331762,  0.2740116 ,  0.24334376,\n",
              "         0.24178623,  0.04824877, -0.08139976,  0.03441244,  0.06472573,\n",
              "        -0.01576151,  0.00744904,  0.08424828,  0.01265193,  0.18072683,\n",
              "         0.02012812, -0.0883768 , -0.1948755 ,  0.2758231 ,  0.13621394,\n",
              "         0.02326236, -0.08583329, -0.01262041,  0.09647953,  0.03384661,\n",
              "         0.2555618 ,  0.42367947,  0.17005326,  0.09613597,  0.11824927,\n",
              "         0.14437711,  0.28702658,  0.27219772, -0.20857915,  0.21661913,\n",
              "         0.23236397, -0.18709454,  0.18693607, -0.3076779 ,  0.15910088,\n",
              "         0.12955832, -0.07433067,  0.02837084, -0.05936288, -0.01012923,\n",
              "         0.1607601 ,  0.10962056, -0.2612782 , -0.17450793,  0.29713807,\n",
              "         0.17065963, -0.01332219, -0.0374069 ,  0.41225818,  0.31130084,\n",
              "         0.03554028,  0.3161808 ,  0.14390564,  0.23407345, -0.0078746 ,\n",
              "         0.16888633,  0.14411965, -0.02895063,  0.23459181, -0.21538495,\n",
              "         0.13599817,  0.20239387,  0.17076193, -0.1641112 , -0.01667976,\n",
              "         0.04855561, -0.14972916, -0.01748103, -0.19972745, -0.02391278,\n",
              "        -0.01166963, -0.03315964,  0.10016104, -0.10462499, -0.11178242,\n",
              "         0.13264917,  0.2987203 ,  0.14130147, -0.1564672 ,  0.30916047,\n",
              "         0.04481647,  0.28590816,  0.02975569,  0.26854745,  0.23953483,\n",
              "         0.14589778, -0.13779825,  0.01717069, -0.0164882 ,  0.3656566 ,\n",
              "         0.13060431,  0.29172212,  0.1902871 , -0.05622926,  0.14750324,\n",
              "         0.32083017,  0.12053565,  0.32709944,  0.13967462, -0.10703601,\n",
              "         0.16429025, -0.01467337,  0.27163813,  0.2641972 ,  0.23301737,\n",
              "         0.27043524,  0.21573849,  0.24131389, -0.13423711,  0.00092642,\n",
              "        -0.22998296,  0.09807996,  0.08730911,  0.3797221 ,  0.06913396,\n",
              "        -0.00150849,  0.2565587 ,  0.09551809,  0.44258603,  0.09621063,\n",
              "        -0.05318348,  0.02911368,  0.04860082,  0.06975488, -0.034315  ,\n",
              "         0.24495572, -0.0849223 , -0.02305605, -0.03756309,  0.11773031,\n",
              "         0.13778263, -0.01222274,  0.00604129, -0.18538828,  0.33647636,\n",
              "        -0.21777564,  0.46406013, -0.02483323, -0.08544645, -0.04148828,\n",
              "        -0.1456338 ,  0.29927078, -0.0878808 ,  0.30693087,  0.22255397,\n",
              "         0.20512094,  0.08585072,  0.11335761,  0.142662  ,  0.04280129,\n",
              "         0.11019212,  0.02424121, -0.01583993,  0.00651115,  0.26272455,\n",
              "         0.11365344,  0.20995498,  0.2534257 ,  0.26640838,  0.27619866,\n",
              "         0.0368239 ,  0.08482066, -0.2877794 ,  0.02519931, -0.23228176,\n",
              "         0.23229018, -0.0091536 ,  0.24896042,  0.11399925, -0.2230451 ,\n",
              "         0.3361109 ,  0.18340133, -0.01661422,  0.09695762,  0.28828308,\n",
              "        -0.17061295, -0.01940282,  0.05019625,  0.41276574,  0.07398525,\n",
              "        -0.03495436], dtype=float32)]"
            ]
          },
          "metadata": {},
          "execution_count": 26
        }
      ],
      "source": [
        "#zerandos os pesos\n",
        "pesos_camada_dense.shape\n",
        "pesos_camada_dense_zerados = np.zeros((784, 256))\n",
        "\n",
        "pesos_camada_dense_aleatorios = np.random.rand(784, 256)\n",
        "\n",
        "'''\n",
        "modelo.layers[1].set_weights([pesos_camada_dense_zerados, vieses_camada_dense])\n",
        "'''\n",
        "modelo.layers[1].set_weights([pesos_camada_dense_aleatorios, vieses_camada_dense])\n",
        "\n",
        "modelo.layers[1].get_weights()\n"
      ]
    },
    {
      "cell_type": "code",
      "execution_count": null,
      "metadata": {
        "colab": {
          "base_uri": "https://localhost:8080/"
        },
        "id": "d1hym0xMUW5D",
        "outputId": "8fdeeb33-229a-4d68-8eb8-a2d4c13d6ac6"
      },
      "outputs": [
        {
          "output_type": "stream",
          "name": "stdout",
          "text": [
            "Epoch 1/5\n",
            "1500/1500 [==============================] - 11s 7ms/step - loss: 12.1336 - accuracy: 0.3659 - val_loss: 4.0171 - val_accuracy: 0.5039\n",
            "Epoch 2/5\n",
            "1500/1500 [==============================] - 11s 7ms/step - loss: 4.0935 - accuracy: 0.5499 - val_loss: 3.3975 - val_accuracy: 0.6345\n",
            "Epoch 3/5\n",
            "1500/1500 [==============================] - 8s 6ms/step - loss: 2.9503 - accuracy: 0.6372 - val_loss: 2.2091 - val_accuracy: 0.6570\n",
            "Epoch 4/5\n",
            "1500/1500 [==============================] - 9s 6ms/step - loss: 1.8909 - accuracy: 0.6995 - val_loss: 1.5581 - val_accuracy: 0.7000\n",
            "Epoch 5/5\n",
            "1500/1500 [==============================] - 9s 6ms/step - loss: 1.3323 - accuracy: 0.7435 - val_loss: 0.8712 - val_accuracy: 0.8133\n"
          ]
        }
      ],
      "source": [
        "#após zerar os pesos e deixar os vieses iguais, agora rodamos/treinamos o modelo\n",
        "modelo.compile(optimizer='adam', loss='sparse_categorical_crossentropy', metrics=['accuracy'])\n",
        "historico = modelo.fit(imagens_treino, identificacoes_treino, epochs=5, validation_split=0.2)"
      ]
    },
    {
      "cell_type": "code",
      "execution_count": null,
      "metadata": {
        "colab": {
          "base_uri": "https://localhost:8080/",
          "height": 491
        },
        "id": "PzuYbjx6VIqD",
        "outputId": "55b38962-0ce8-44cb-fa85-5cf79e4611cc"
      },
      "outputs": [
        {
          "output_type": "execute_result",
          "data": {
            "text/plain": [
              "<matplotlib.legend.Legend at 0x78cb78024fa0>"
            ]
          },
          "metadata": {},
          "execution_count": 37
        },
        {
          "output_type": "display_data",
          "data": {
            "text/plain": [
              "<Figure size 640x480 with 1 Axes>"
            ],
            "image/png": "[encoded data removed]"
          },
          "metadata": {}
        }
      ],
      "source": [
        "#agora geraremos os gráficos para melhor entendimento do modelo\n",
        "plt.plot(historico.history['accuracy'])\n",
        "plt.plot(historico.history['val_accuracy'])\n",
        "plt.title('Acurácias por épocas')\n",
        "plt.xlabel('Épocas')\n",
        "plt.ylabel('Acurácia')\n",
        "plt.legend(['Treino', 'Validação'])"
      ]
    },
    {
      "cell_type": "code",
      "execution_count": null,
      "metadata": {
        "colab": {
          "base_uri": "https://localhost:8080/",
          "height": 491
        },
        "id": "uuazSy5kXCO3",
        "outputId": "e69b53a5-f0e2-4d84-c19c-99d6d61f784d"
      },
      "outputs": [
        {
          "output_type": "execute_result",
          "data": {
            "text/plain": [
              "<matplotlib.legend.Legend at 0x78cb78d2e800>"
            ]
          },
          "metadata": {},
          "execution_count": 29
        },
        {
          "output_type": "display_data",
          "data": {
            "text/plain": [
              "<Figure size 640x480 with 1 Axes>"
            ],
            "image/png": "[encoded data removed]"
          },
          "metadata": {}
        }
      ],
      "source": [
        "plt.plot(historico.history['loss'])\n",
        "plt.plot(historico.history['val_loss'])\n",
        "plt.title('Perdas por épocas')\n",
        "plt.xlabel('Épocas')\n",
        "plt.ylabel('Perdas')\n",
        "plt.legend(['Treino', 'Validação'])"
      ]
    },
    {
      "cell_type": "markdown",
      "metadata": {
        "id": "2XsnD_LMX3LD"
      },
      "source": [
        "Aqui observamos que nossa rede continua com uma má performance. Isso acontece pq ela está simétrica. No proximo passo iremos dar uma melhoramento dela fazendo sua assimetria deixando os pesos aleatórios."
      ]
    },
    {
      "cell_type": "code",
      "execution_count": null,
      "metadata": {
        "colab": {
          "base_uri": "https://localhost:8080/"
        },
        "id": "Rh-W9SYvUvpW",
        "outputId": "64670b6a-c51f-431b-f291-f35d497ba183"
      },
      "outputs": [
        {
          "output_type": "execute_result",
          "data": {
            "text/plain": [
              "(256,)"
            ]
          },
          "metadata": {},
          "execution_count": 11
        }
      ],
      "source": [
        "vieses_camada_dense = modelo.layers[1].get_weights()[1]\n",
        "vieses_camada_dense.shape"
      ]
    },
    {
      "cell_type": "code",
      "source": [
        "vieses_camada_dense_zerados = np.zeros((256,))\n",
        "#treinando o modelo com os vieses e os pesos zerados\n",
        "#modelo.layers[1].set_weights([pesos_camada_dense_zerados, vieses_camada_dense_zerados])\n",
        "#treianando o modelo com os vieses zerados com o pesos randomicos\n",
        "modelo.layers[1].set_weights([pesos_camada_dense_aleatorios, vieses_camada_dense_zerados])"
      ],
      "metadata": {
        "id": "XVhElONRQwqC"
      },
      "execution_count": null,
      "outputs": []
    },
    {
      "cell_type": "code",
      "execution_count": null,
      "metadata": {
        "colab": {
          "base_uri": "https://localhost:8080/"
        },
        "id": "mjwJbjw6A3Dn",
        "outputId": "f556e6fe-11c8-4587-921d-385d077e803a"
      },
      "outputs": [
        {
          "output_type": "stream",
          "name": "stderr",
          "text": [
            "/usr/local/lib/python3.10/dist-packages/keras/src/engine/training.py:3103: UserWarning: You are saving your model as an HDF5 file via `model.save()`. This file format is considered legacy. We recommend using instead the native Keras format, e.g. `model.save('my_model.keras')`.\n",
            "  saving_api.save_model(\n"
          ]
        }
      ],
      "source": [
        "#salvando modelo após treinado e validado. Vai ser salvo em htf5(h5)\n",
        "from tensorflow.keras.models import load_model\n",
        "\n",
        "modelo.save('modelo_epochs5_nos3.h5')\n",
        "modelo_salvo = load_model('modelo_epochs5_nos3.h5')"
      ]
    },
    {
      "cell_type": "code",
      "execution_count": null,
      "metadata": {
        "colab": {
          "base_uri": "https://localhost:8080/"
        },
        "id": "7I4iJrt0bz7l",
        "outputId": "dfa960d9-2663-4170-bc83-ac91e551710f"
      },
      "outputs": [
        {
          "output_type": "stream",
          "name": "stdout",
          "text": [
            "313/313 [==============================] - 1s 3ms/step\n",
            "Resultado de teste: 9\n",
            "Número da imagem de teste: 9\n",
            "313/313 [==============================] - 1s 3ms/step\n",
            "Resultado de teste modelo salvo: 5\n",
            "Número da imagem de teste: 9\n"
          ]
        }
      ],
      "source": [
        "testes = modelo.predict(imagens_teste)\n",
        "#testes[0]\n",
        "print('Resultado de teste:', np.argmax(testes[0]))\n",
        "print('Número da imagem de teste:', identificacoes_teste[0])\n",
        "\n",
        "#Após salvar o modelo, vamos carregar aqui para usarmos. Com a saída que vamos obter verificamos que otimizamos, salvamos e que está tudo certo com nosso modelo.\n",
        "testes_modelo_salvo = modelo_salvo.predict(imagens_teste)\n",
        "print('Resultado de teste modelo salvo:', np.argmax(testes_modelo_salvo[0]))\n",
        "print('Número da imagem de teste:', identificacoes_teste[0])"
      ]
    },
    {
      "cell_type": "markdown",
      "metadata": {
        "id": "v8RwBwYscjwL"
      },
      "source": [
        "Para saber o resultado deste teste (ou saber se acertamos ou erramos) temos que pegar o maior número 'np.argmax(testes[0])'. Acima vimos que ele está com bastante acertividade. Mudamos os números entre colchetes e obtivemos os mesmo resultados de teste e real.\n",
        "\n",
        "Mas, ele pode errar, então, vamos verificar quantas vezes ele acertou e quantas vezes ele errou (ou quanto teve de acurácia ou perdeu):"
      ]
    },
    {
      "cell_type": "code",
      "execution_count": null,
      "metadata": {
        "colab": {
          "base_uri": "https://localhost:8080/"
        },
        "id": "eiS3uDS_fVdz",
        "outputId": "18e040c9-bc94-4ef9-e3de-6c80422bc846"
      },
      "outputs": [
        {
          "output_type": "stream",
          "name": "stdout",
          "text": [
            "313/313 [==============================] - 1s 2ms/step - loss: 320.3728 - accuracy: 0.7520\n",
            "Perda de teste: 320.372802734375\n",
            "Acurácia de teste: 0.7519999742507935\n"
          ]
        }
      ],
      "source": [
        "perda_teste, acuracia_teste = modelo.evaluate(imagens_teste, identificacoes_teste)\n",
        "print('Perda de teste:', perda_teste)\n",
        "print('Acurácia de teste:', acuracia_teste)"
      ]
    },
    {
      "cell_type": "markdown",
      "metadata": {
        "id": "WZ8rpnDfhKfd"
      },
      "source": [
        "Observamos que nossa perda e acurácia estão péssimas. Então, precisamos fazer ajustes no nosso modelo. Vamos ajustar passando dados de validação (assegurar os novos dados que entram), pois até agora só asseguramos dados de treino e teste e assim tentar reduzir esse status ruim que obtivemos. Vamos deixar 20% de validação la no fit: 'validation_split=0.2'.\n",
        "Após rodar a célula, vimos que nosso output veio com mais informações, as val_loss e val_accuracy. Para entendermos essas informações, vamos passar para um gráfico. Desta forma vamos salvar o nosso modelo.fit em uma variável chamada historico."
      ]
    },
    {
      "cell_type": "code",
      "execution_count": null,
      "metadata": {
        "colab": {
          "base_uri": "https://localhost:8080/"
        },
        "id": "JVZ1H6GynSeH",
        "outputId": "84377a51-5af3-4238-cba0-bc2ecf2adacb"
      },
      "outputs": [
        {
          "output_type": "execute_result",
          "data": {
            "text/plain": [
              "{'loss': [85.49964904785156,\n",
              "  23.061859130859375,\n",
              "  10.547414779663086,\n",
              "  5.369117736816406,\n",
              "  2.8919644355773926],\n",
              " 'accuracy': [0.41502082347869873,\n",
              "  0.6285416483879089,\n",
              "  0.6810208559036255,\n",
              "  0.7126250267028809,\n",
              "  0.7437916398048401],\n",
              " 'val_loss': [12.94721508026123,\n",
              "  8.766169548034668,\n",
              "  4.718257904052734,\n",
              "  2.5908682346343994,\n",
              "  1.712613582611084],\n",
              " 'val_accuracy': [0.7200000286102295,\n",
              "  0.7446666955947876,\n",
              "  0.7527499794960022,\n",
              "  0.7699166536331177,\n",
              "  0.799916684627533]}"
            ]
          },
          "metadata": {},
          "execution_count": 20
        }
      ],
      "source": [
        "historico.history\n",
        "#na saída observamos que entrega um dicionário com os valores das 5 épocas. Então vamos visualizar como nosso modelo tá indo\n",
        "#nos dados de treino e validação através de gráfico para melhor compreensão."
      ]
    },
    {
      "cell_type": "code",
      "execution_count": null,
      "metadata": {
        "colab": {
          "base_uri": "https://localhost:8080/",
          "height": 491
        },
        "id": "XplbAJNapRPm",
        "outputId": "7002442c-7f9a-4295-fe6d-96f47dd7a591"
      },
      "outputs": [
        {
          "output_type": "execute_result",
          "data": {
            "text/plain": [
              "<matplotlib.legend.Legend at 0x78cb94bf07c0>"
            ]
          },
          "metadata": {},
          "execution_count": 32
        },
        {
          "output_type": "display_data",
          "data": {
            "text/plain": [
              "<Figure size 640x480 with 1 Axes>"
            ],
            "image/png": "[encoded data removed]"
          },
          "metadata": {}
        }
      ],
      "source": [
        "plt.plot(historico.history['accuracy'])\n",
        "plt.plot(historico.history['val_accuracy'])\n",
        "plt.title('Acurácias por épocas')\n",
        "plt.xlabel('Épocas')\n",
        "plt.ylabel('Acurácia')\n",
        "plt.legend(['Treino', 'Validação'])"
      ]
    },
    {
      "cell_type": "code",
      "execution_count": null,
      "metadata": {
        "colab": {
          "base_uri": "https://localhost:8080/",
          "height": 491
        },
        "id": "GCQs07s5sCxj",
        "outputId": "55ed1051-eb5f-499c-97d1-238cdb655220"
      },
      "outputs": [
        {
          "output_type": "execute_result",
          "data": {
            "text/plain": [
              "<matplotlib.legend.Legend at 0x78cb78c5d000>"
            ]
          },
          "metadata": {},
          "execution_count": 33
        },
        {
          "output_type": "display_data",
          "data": {
            "text/plain": [
              "<Figure size 640x480 with 1 Axes>"
            ],
            "image/png": "[encoded data removed]"
          },
          "metadata": {}
        }
      ],
      "source": [
        "plt.plot(historico.history['loss'])\n",
        "plt.plot(historico.history['val_loss'])\n",
        "plt.title('Perdas por épocas')\n",
        "plt.xlabel('Épocas')\n",
        "plt.ylabel('Perdas')\n",
        "plt.legend(['Treino', 'Validação'])"
      ]
    },
    {
      "cell_type": "markdown",
      "metadata": {
        "id": "r3djLGQVtP4l"
      },
      "source": [
        "Com essas saídas de gráficos conseguimos entender que a nossa rede precisa fazer um ajuste no treinamento. Ela está servindo tão pouco para o treino que ela está underfit(está encaixando pouco) nos dados de treino então ela precisa aprender o bastante para entender dados novos de validação. Então precisamos decidir o quanto a gente treina nossa rede.\n",
        "Observando os gráficos vimos que as quebras ocorreram a partir da época 10 em ambos os gráficos. Então vamos treinar nossa rede por mais 5 vezes = 10.\n",
        "Ao final da análise vimos que a melhor opção é manter as épocas 5 vezes.\n",
        "\n",
        "Mas, precisamos de outra técnica para melhorar nosso modelo, pois, ele continua com as validações ruins.\n",
        "A técnica consiste em deixar alguns neurônios ''dormentes''lá nas nossas camadas vamos acrescentar os dropout.\n",
        "Após usarmos a técnica do dropout, obtivemos um retorno bem mais satisfatório que pode ser visualizado nos nossos gráficos acima.\n",
        "Então, podemos concluir que nosso modelo está funcionando bem. Próximo passo é salvá-lo."
      ]
    },
    {
      "cell_type": "code",
      "source": [
        "modelo.get_config()"
      ],
      "metadata": {
        "colab": {
          "base_uri": "https://localhost:8080/"
        },
        "id": "PItRT6afaabz",
        "outputId": "b7265684-64c8-4214-94fa-9186b8e536b4"
      },
      "execution_count": null,
      "outputs": [
        {
          "output_type": "execute_result",
          "data": {
            "text/plain": [
              "{'name': 'sequential',\n",
              " 'layers': [{'module': 'keras.layers',\n",
              "   'class_name': 'InputLayer',\n",
              "   'config': {'batch_input_shape': (None, 28, 28),\n",
              "    'dtype': 'float32',\n",
              "    'sparse': False,\n",
              "    'ragged': False,\n",
              "    'name': 'flatten_input'},\n",
              "   'registered_name': None},\n",
              "  {'module': 'keras.layers',\n",
              "   'class_name': 'Flatten',\n",
              "   'config': {'name': 'flatten',\n",
              "    'trainable': True,\n",
              "    'dtype': 'float32',\n",
              "    'batch_input_shape': (None, 28, 28),\n",
              "    'data_format': 'channels_last'},\n",
              "   'registered_name': None,\n",
              "   'build_config': {'input_shape': (None, 28, 28)}},\n",
              "  {'module': 'keras.layers',\n",
              "   'class_name': 'Dense',\n",
              "   'config': {'name': 'dense',\n",
              "    'trainable': True,\n",
              "    'dtype': 'float32',\n",
              "    'units': 256,\n",
              "    'activation': 'relu',\n",
              "    'use_bias': True,\n",
              "    'kernel_initializer': {'module': 'keras.initializers',\n",
              "     'class_name': 'GlorotUniform',\n",
              "     'config': {'seed': None},\n",
              "     'registered_name': None},\n",
              "    'bias_initializer': {'module': 'keras.initializers',\n",
              "     'class_name': 'Zeros',\n",
              "     'config': {},\n",
              "     'registered_name': None},\n",
              "    'kernel_regularizer': None,\n",
              "    'bias_regularizer': None,\n",
              "    'activity_regularizer': None,\n",
              "    'kernel_constraint': None,\n",
              "    'bias_constraint': None},\n",
              "   'registered_name': None,\n",
              "   'build_config': {'input_shape': (None, 784)}},\n",
              "  {'module': 'keras.layers',\n",
              "   'class_name': 'Dropout',\n",
              "   'config': {'name': 'dropout',\n",
              "    'trainable': True,\n",
              "    'dtype': 'float32',\n",
              "    'rate': 0.2,\n",
              "    'noise_shape': None,\n",
              "    'seed': None},\n",
              "   'registered_name': None,\n",
              "   'build_config': {'input_shape': (None, 256)}},\n",
              "  {'module': 'keras.layers',\n",
              "   'class_name': 'Dense',\n",
              "   'config': {'name': 'dense_1',\n",
              "    'trainable': True,\n",
              "    'dtype': 'float32',\n",
              "    'units': 10,\n",
              "    'activation': 'softmax',\n",
              "    'use_bias': True,\n",
              "    'kernel_initializer': {'module': 'keras.initializers',\n",
              "     'class_name': 'GlorotUniform',\n",
              "     'config': {'seed': None},\n",
              "     'registered_name': None},\n",
              "    'bias_initializer': {'module': 'keras.initializers',\n",
              "     'class_name': 'Zeros',\n",
              "     'config': {},\n",
              "     'registered_name': None},\n",
              "    'kernel_regularizer': None,\n",
              "    'bias_regularizer': None,\n",
              "    'activity_regularizer': None,\n",
              "    'kernel_constraint': None,\n",
              "    'bias_constraint': None},\n",
              "   'registered_name': None,\n",
              "   'build_config': {'input_shape': (None, 256)}}]}"
            ]
          },
          "metadata": {},
          "execution_count": 38
        }
      ]
    }
  ],
  "metadata": {
    "colab": {
      "provenance": [],
      "authorship_tag": "ABX9TyOUuiVGQDjh+aT/GlcKhN6U",
      "include_colab_link": true
    },
    "kernelspec": {
      "display_name": "Python 3",
      "name": "python3"
    },
    "language_info": {
      "name": "python"
    }
  },
  "nbformat": 4,
  "nbformat_minor": 0
}